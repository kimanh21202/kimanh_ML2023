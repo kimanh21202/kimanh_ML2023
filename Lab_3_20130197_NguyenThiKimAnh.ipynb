{
  "nbformat": 4,
  "nbformat_minor": 0,
  "metadata": {
    "colab": {
      "provenance": [],
      "include_colab_link": true
    },
    "kernelspec": {
      "name": "python3",
      "display_name": "Python 3"
    },
    "language_info": {
      "name": "python"
    }
  },
  "cells": [
    {
      "cell_type": "markdown",
      "metadata": {
        "id": "view-in-github",
        "colab_type": "text"
      },
      "source": [
        "<a href=\"https://colab.research.google.com/github/kimanh21202/kimanh_ML2023/blob/main/Lab_3_20130197_NguyenThiKimAnh.ipynb\" target=\"_parent\"><img src=\"https://colab.research.google.com/assets/colab-badge.svg\" alt=\"Open In Colab\"/></a>"
      ]
    },
    {
      "cell_type": "markdown",
      "source": [
        "**Deadline: 23:59, 04/03/2023**"
      ],
      "metadata": {
        "id": "KbeXZnmRRqin"
      }
    },
    {
      "cell_type": "markdown",
      "source": [
        "# Task 1. \n",
        "The main aim of this task is to get familiar with the tasks of preprocessing data using Scikit-learn – a Python-based Machine Learning framework and Linear Regression.\n"
      ],
      "metadata": {
        "id": "LMzehe0sy5wr"
      }
    },
    {
      "cell_type": "markdown",
      "source": [
        "For given 2 datasets (preprocessing_weather.csv, preprocessing_salary_dummy.csv), \n",
        "*   Identify issues with these datasets\n",
        "*   Then, apply preprocessing techniques to the datasets\n"
      ],
      "metadata": {
        "id": "Pck4yZk8KmyU"
      }
    },
    {
      "cell_type": "code",
      "source": [
        "from google.colab import drive\n",
        "drive.mount('/content/gdrive')\n",
        "%cd '/content/gdrive/MyDrive/Colab'\n",
        "import pandas as pd\n",
        "import numpy as np\n",
        "from sklearn.impute import SimpleImputer as sk"
      ],
      "metadata": {
        "id": "MUon-HhIY763",
        "colab": {
          "base_uri": "https://localhost:8080/"
        },
        "outputId": "49735264-e8f6-4b8a-f530-368c4b985589"
      },
      "execution_count": 5,
      "outputs": [
        {
          "output_type": "stream",
          "name": "stdout",
          "text": [
            "Drive already mounted at /content/gdrive; to attempt to forcibly remount, call drive.mount(\"/content/gdrive\", force_remount=True).\n",
            "/content/gdrive/MyDrive/Colab\n"
          ]
        }
      ]
    },
    {
      "cell_type": "markdown",
      "source": [
        "#Task 1.1. Dataset preprocessing_weather.csv"
      ],
      "metadata": {
        "id": "H4nJmxp9zGX4"
      }
    },
    {
      "cell_type": "markdown",
      "source": [
        "**Issues**:\n",
        "\n",
        "\n",
        "1.   List item\n",
        "2.   List item\n",
        "3.   List item\n",
        "4.   List item\n",
        "....\n",
        "\n"
      ],
      "metadata": {
        "id": "3_RXE803Sb_h"
      }
    },
    {
      "cell_type": "markdown",
      "source": [
        "**Preprocessing dataset**:"
      ],
      "metadata": {
        "id": "WIVGBnAnSo-Q"
      }
    },
    {
      "cell_type": "code",
      "source": [
        "#code\n",
        "task11 = pd.read_csv('preprocessing_weather.csv')\n",
        "X = task11.iloc[:,2:4].values\n",
        "imputer = sk(missing_values=np.nan, strategy='mean')\n",
        "X_imputed = imputer.fit_transform(X)\n",
        "task11.iloc[:,2:4]=X_imputed\n",
        "task11"
      ],
      "metadata": {
        "id": "hp-7wLFgSvTk",
        "colab": {
          "base_uri": "https://localhost:8080/",
          "height": 488
        },
        "outputId": "f615ccec-1a40-4f15-892f-314f83bf4210"
      },
      "execution_count": 30,
      "outputs": [
        {
          "output_type": "execute_result",
          "data": {
            "text/plain": [
              "    id   outlook  temperature   humidity  windy play\n",
              "0    1     sunny    85.000000  85.000000  False   no\n",
              "1    2     sunny    80.000000  90.000000   True   no\n",
              "2    3  overcast    83.000000  86.000000  False  yes\n",
              "3    4     rainy    73.846154  96.000000  False  yes\n",
              "4    5     rainy    68.000000  80.000000  False  yes\n",
              "5    6     rainy    65.000000  70.000000   True   no\n",
              "6    7  overcast    64.000000  65.000000   True  yes\n",
              "7    8     sunny    72.000000  95.000000  False   no\n",
              "8    9     sunny    69.000000  82.538462  False  yes\n",
              "9   10     rainy    75.000000  80.000000  False  yes\n",
              "10  11     sunny    75.000000  70.000000   True  yes\n",
              "11  12  overcast    72.000000  90.000000   True  yes\n",
              "12  13  overcast    81.000000  75.000000  False  yes\n",
              "13  14     rainy    71.000000  91.000000   True   no"
            ],
            "text/html": [
              "\n",
              "  <div id=\"df-06c94fc3-95b2-4ffb-8740-fbfa11fa5319\">\n",
              "    <div class=\"colab-df-container\">\n",
              "      <div>\n",
              "<style scoped>\n",
              "    .dataframe tbody tr th:only-of-type {\n",
              "        vertical-align: middle;\n",
              "    }\n",
              "\n",
              "    .dataframe tbody tr th {\n",
              "        vertical-align: top;\n",
              "    }\n",
              "\n",
              "    .dataframe thead th {\n",
              "        text-align: right;\n",
              "    }\n",
              "</style>\n",
              "<table border=\"1\" class=\"dataframe\">\n",
              "  <thead>\n",
              "    <tr style=\"text-align: right;\">\n",
              "      <th></th>\n",
              "      <th>id</th>\n",
              "      <th>outlook</th>\n",
              "      <th>temperature</th>\n",
              "      <th>humidity</th>\n",
              "      <th>windy</th>\n",
              "      <th>play</th>\n",
              "    </tr>\n",
              "  </thead>\n",
              "  <tbody>\n",
              "    <tr>\n",
              "      <th>0</th>\n",
              "      <td>1</td>\n",
              "      <td>sunny</td>\n",
              "      <td>85.000000</td>\n",
              "      <td>85.000000</td>\n",
              "      <td>False</td>\n",
              "      <td>no</td>\n",
              "    </tr>\n",
              "    <tr>\n",
              "      <th>1</th>\n",
              "      <td>2</td>\n",
              "      <td>sunny</td>\n",
              "      <td>80.000000</td>\n",
              "      <td>90.000000</td>\n",
              "      <td>True</td>\n",
              "      <td>no</td>\n",
              "    </tr>\n",
              "    <tr>\n",
              "      <th>2</th>\n",
              "      <td>3</td>\n",
              "      <td>overcast</td>\n",
              "      <td>83.000000</td>\n",
              "      <td>86.000000</td>\n",
              "      <td>False</td>\n",
              "      <td>yes</td>\n",
              "    </tr>\n",
              "    <tr>\n",
              "      <th>3</th>\n",
              "      <td>4</td>\n",
              "      <td>rainy</td>\n",
              "      <td>73.846154</td>\n",
              "      <td>96.000000</td>\n",
              "      <td>False</td>\n",
              "      <td>yes</td>\n",
              "    </tr>\n",
              "    <tr>\n",
              "      <th>4</th>\n",
              "      <td>5</td>\n",
              "      <td>rainy</td>\n",
              "      <td>68.000000</td>\n",
              "      <td>80.000000</td>\n",
              "      <td>False</td>\n",
              "      <td>yes</td>\n",
              "    </tr>\n",
              "    <tr>\n",
              "      <th>5</th>\n",
              "      <td>6</td>\n",
              "      <td>rainy</td>\n",
              "      <td>65.000000</td>\n",
              "      <td>70.000000</td>\n",
              "      <td>True</td>\n",
              "      <td>no</td>\n",
              "    </tr>\n",
              "    <tr>\n",
              "      <th>6</th>\n",
              "      <td>7</td>\n",
              "      <td>overcast</td>\n",
              "      <td>64.000000</td>\n",
              "      <td>65.000000</td>\n",
              "      <td>True</td>\n",
              "      <td>yes</td>\n",
              "    </tr>\n",
              "    <tr>\n",
              "      <th>7</th>\n",
              "      <td>8</td>\n",
              "      <td>sunny</td>\n",
              "      <td>72.000000</td>\n",
              "      <td>95.000000</td>\n",
              "      <td>False</td>\n",
              "      <td>no</td>\n",
              "    </tr>\n",
              "    <tr>\n",
              "      <th>8</th>\n",
              "      <td>9</td>\n",
              "      <td>sunny</td>\n",
              "      <td>69.000000</td>\n",
              "      <td>82.538462</td>\n",
              "      <td>False</td>\n",
              "      <td>yes</td>\n",
              "    </tr>\n",
              "    <tr>\n",
              "      <th>9</th>\n",
              "      <td>10</td>\n",
              "      <td>rainy</td>\n",
              "      <td>75.000000</td>\n",
              "      <td>80.000000</td>\n",
              "      <td>False</td>\n",
              "      <td>yes</td>\n",
              "    </tr>\n",
              "    <tr>\n",
              "      <th>10</th>\n",
              "      <td>11</td>\n",
              "      <td>sunny</td>\n",
              "      <td>75.000000</td>\n",
              "      <td>70.000000</td>\n",
              "      <td>True</td>\n",
              "      <td>yes</td>\n",
              "    </tr>\n",
              "    <tr>\n",
              "      <th>11</th>\n",
              "      <td>12</td>\n",
              "      <td>overcast</td>\n",
              "      <td>72.000000</td>\n",
              "      <td>90.000000</td>\n",
              "      <td>True</td>\n",
              "      <td>yes</td>\n",
              "    </tr>\n",
              "    <tr>\n",
              "      <th>12</th>\n",
              "      <td>13</td>\n",
              "      <td>overcast</td>\n",
              "      <td>81.000000</td>\n",
              "      <td>75.000000</td>\n",
              "      <td>False</td>\n",
              "      <td>yes</td>\n",
              "    </tr>\n",
              "    <tr>\n",
              "      <th>13</th>\n",
              "      <td>14</td>\n",
              "      <td>rainy</td>\n",
              "      <td>71.000000</td>\n",
              "      <td>91.000000</td>\n",
              "      <td>True</td>\n",
              "      <td>no</td>\n",
              "    </tr>\n",
              "  </tbody>\n",
              "</table>\n",
              "</div>\n",
              "      <button class=\"colab-df-convert\" onclick=\"convertToInteractive('df-06c94fc3-95b2-4ffb-8740-fbfa11fa5319')\"\n",
              "              title=\"Convert this dataframe to an interactive table.\"\n",
              "              style=\"display:none;\">\n",
              "        \n",
              "  <svg xmlns=\"http://www.w3.org/2000/svg\" height=\"24px\"viewBox=\"0 0 24 24\"\n",
              "       width=\"24px\">\n",
              "    <path d=\"M0 0h24v24H0V0z\" fill=\"none\"/>\n",
              "    <path d=\"M18.56 5.44l.94 2.06.94-2.06 2.06-.94-2.06-.94-.94-2.06-.94 2.06-2.06.94zm-11 1L8.5 8.5l.94-2.06 2.06-.94-2.06-.94L8.5 2.5l-.94 2.06-2.06.94zm10 10l.94 2.06.94-2.06 2.06-.94-2.06-.94-.94-2.06-.94 2.06-2.06.94z\"/><path d=\"M17.41 7.96l-1.37-1.37c-.4-.4-.92-.59-1.43-.59-.52 0-1.04.2-1.43.59L10.3 9.45l-7.72 7.72c-.78.78-.78 2.05 0 2.83L4 21.41c.39.39.9.59 1.41.59.51 0 1.02-.2 1.41-.59l7.78-7.78 2.81-2.81c.8-.78.8-2.07 0-2.86zM5.41 20L4 18.59l7.72-7.72 1.47 1.35L5.41 20z\"/>\n",
              "  </svg>\n",
              "      </button>\n",
              "      \n",
              "  <style>\n",
              "    .colab-df-container {\n",
              "      display:flex;\n",
              "      flex-wrap:wrap;\n",
              "      gap: 12px;\n",
              "    }\n",
              "\n",
              "    .colab-df-convert {\n",
              "      background-color: #E8F0FE;\n",
              "      border: none;\n",
              "      border-radius: 50%;\n",
              "      cursor: pointer;\n",
              "      display: none;\n",
              "      fill: #1967D2;\n",
              "      height: 32px;\n",
              "      padding: 0 0 0 0;\n",
              "      width: 32px;\n",
              "    }\n",
              "\n",
              "    .colab-df-convert:hover {\n",
              "      background-color: #E2EBFA;\n",
              "      box-shadow: 0px 1px 2px rgba(60, 64, 67, 0.3), 0px 1px 3px 1px rgba(60, 64, 67, 0.15);\n",
              "      fill: #174EA6;\n",
              "    }\n",
              "\n",
              "    [theme=dark] .colab-df-convert {\n",
              "      background-color: #3B4455;\n",
              "      fill: #D2E3FC;\n",
              "    }\n",
              "\n",
              "    [theme=dark] .colab-df-convert:hover {\n",
              "      background-color: #434B5C;\n",
              "      box-shadow: 0px 1px 3px 1px rgba(0, 0, 0, 0.15);\n",
              "      filter: drop-shadow(0px 1px 2px rgba(0, 0, 0, 0.3));\n",
              "      fill: #FFFFFF;\n",
              "    }\n",
              "  </style>\n",
              "\n",
              "      <script>\n",
              "        const buttonEl =\n",
              "          document.querySelector('#df-06c94fc3-95b2-4ffb-8740-fbfa11fa5319 button.colab-df-convert');\n",
              "        buttonEl.style.display =\n",
              "          google.colab.kernel.accessAllowed ? 'block' : 'none';\n",
              "\n",
              "        async function convertToInteractive(key) {\n",
              "          const element = document.querySelector('#df-06c94fc3-95b2-4ffb-8740-fbfa11fa5319');\n",
              "          const dataTable =\n",
              "            await google.colab.kernel.invokeFunction('convertToInteractive',\n",
              "                                                     [key], {});\n",
              "          if (!dataTable) return;\n",
              "\n",
              "          const docLinkHtml = 'Like what you see? Visit the ' +\n",
              "            '<a target=\"_blank\" href=https://colab.research.google.com/notebooks/data_table.ipynb>data table notebook</a>'\n",
              "            + ' to learn more about interactive tables.';\n",
              "          element.innerHTML = '';\n",
              "          dataTable['output_type'] = 'display_data';\n",
              "          await google.colab.output.renderOutput(dataTable, element);\n",
              "          const docLink = document.createElement('div');\n",
              "          docLink.innerHTML = docLinkHtml;\n",
              "          element.appendChild(docLink);\n",
              "        }\n",
              "      </script>\n",
              "    </div>\n",
              "  </div>\n",
              "  "
            ]
          },
          "metadata": {},
          "execution_count": 30
        }
      ]
    },
    {
      "cell_type": "markdown",
      "source": [
        "#Task 1.2. Dataset preprocessing_salary_dummy.csv"
      ],
      "metadata": {
        "id": "GbFjDSGVS3Gg"
      }
    },
    {
      "cell_type": "markdown",
      "source": [
        "**Issues**:\n",
        "\n",
        "\n",
        "1.   List item\n",
        "2.   List item\n",
        "3.   List item\n",
        "4.   List item\n",
        "....\n",
        "\n"
      ],
      "metadata": {
        "id": "0lGRgoArS_5u"
      }
    },
    {
      "cell_type": "markdown",
      "source": [
        "**Preprocessing dataset**:"
      ],
      "metadata": {
        "id": "EPlB4J5fTCUD"
      }
    },
    {
      "cell_type": "code",
      "source": [
        "#code\n",
        "task12= pd.read_csv('preprocessing_salary_dummy.csv')\n",
        "X = task12.iloc[:,2:4].values\n",
        "imputer = sk(missing_values=np.nan, strategy='mean')\n",
        "X_imputed = imputer.fit_transform(X)\n",
        "task12.iloc[:,2:4]=X_imputed\n",
        "task12"
      ],
      "metadata": {
        "id": "Q9skC5VxTDCd",
        "colab": {
          "base_uri": "https://localhost:8080/",
          "height": 363
        },
        "outputId": "32a503cf-e17c-48fc-aca0-20a1af9db1c8"
      },
      "execution_count": 31,
      "outputs": [
        {
          "output_type": "execute_result",
          "data": {
            "text/plain": [
              "   No    Country        Age       Salary  Purchased\n",
              "0   1     France  44.000000  72000.000000        No\n",
              "1   2      Spain  27.000000  48000.000000       Yes\n",
              "2   3    Germany  30.000000  54000.000000        No\n",
              "3   4      Spain  38.000000  61000.000000        No\n",
              "4   5    Germany  40.000000  63777.777778       Yes\n",
              "5   6     France  35.000000  58000.000000       Yes\n",
              "6   7      Spain  38.777778  52000.000000        No\n",
              "7   8     France  48.000000  79000.000000       Yes\n",
              "8   9    Germany  50.000000  83000.000000        No\n",
              "9  10     France  37.000000  67000.000000       Yes"
            ],
            "text/html": [
              "\n",
              "  <div id=\"df-3d045c8e-b7da-4c05-9792-7627987761c8\">\n",
              "    <div class=\"colab-df-container\">\n",
              "      <div>\n",
              "<style scoped>\n",
              "    .dataframe tbody tr th:only-of-type {\n",
              "        vertical-align: middle;\n",
              "    }\n",
              "\n",
              "    .dataframe tbody tr th {\n",
              "        vertical-align: top;\n",
              "    }\n",
              "\n",
              "    .dataframe thead th {\n",
              "        text-align: right;\n",
              "    }\n",
              "</style>\n",
              "<table border=\"1\" class=\"dataframe\">\n",
              "  <thead>\n",
              "    <tr style=\"text-align: right;\">\n",
              "      <th></th>\n",
              "      <th>No</th>\n",
              "      <th>Country</th>\n",
              "      <th>Age</th>\n",
              "      <th>Salary</th>\n",
              "      <th>Purchased</th>\n",
              "    </tr>\n",
              "  </thead>\n",
              "  <tbody>\n",
              "    <tr>\n",
              "      <th>0</th>\n",
              "      <td>1</td>\n",
              "      <td>France</td>\n",
              "      <td>44.000000</td>\n",
              "      <td>72000.000000</td>\n",
              "      <td>No</td>\n",
              "    </tr>\n",
              "    <tr>\n",
              "      <th>1</th>\n",
              "      <td>2</td>\n",
              "      <td>Spain</td>\n",
              "      <td>27.000000</td>\n",
              "      <td>48000.000000</td>\n",
              "      <td>Yes</td>\n",
              "    </tr>\n",
              "    <tr>\n",
              "      <th>2</th>\n",
              "      <td>3</td>\n",
              "      <td>Germany</td>\n",
              "      <td>30.000000</td>\n",
              "      <td>54000.000000</td>\n",
              "      <td>No</td>\n",
              "    </tr>\n",
              "    <tr>\n",
              "      <th>3</th>\n",
              "      <td>4</td>\n",
              "      <td>Spain</td>\n",
              "      <td>38.000000</td>\n",
              "      <td>61000.000000</td>\n",
              "      <td>No</td>\n",
              "    </tr>\n",
              "    <tr>\n",
              "      <th>4</th>\n",
              "      <td>5</td>\n",
              "      <td>Germany</td>\n",
              "      <td>40.000000</td>\n",
              "      <td>63777.777778</td>\n",
              "      <td>Yes</td>\n",
              "    </tr>\n",
              "    <tr>\n",
              "      <th>5</th>\n",
              "      <td>6</td>\n",
              "      <td>France</td>\n",
              "      <td>35.000000</td>\n",
              "      <td>58000.000000</td>\n",
              "      <td>Yes</td>\n",
              "    </tr>\n",
              "    <tr>\n",
              "      <th>6</th>\n",
              "      <td>7</td>\n",
              "      <td>Spain</td>\n",
              "      <td>38.777778</td>\n",
              "      <td>52000.000000</td>\n",
              "      <td>No</td>\n",
              "    </tr>\n",
              "    <tr>\n",
              "      <th>7</th>\n",
              "      <td>8</td>\n",
              "      <td>France</td>\n",
              "      <td>48.000000</td>\n",
              "      <td>79000.000000</td>\n",
              "      <td>Yes</td>\n",
              "    </tr>\n",
              "    <tr>\n",
              "      <th>8</th>\n",
              "      <td>9</td>\n",
              "      <td>Germany</td>\n",
              "      <td>50.000000</td>\n",
              "      <td>83000.000000</td>\n",
              "      <td>No</td>\n",
              "    </tr>\n",
              "    <tr>\n",
              "      <th>9</th>\n",
              "      <td>10</td>\n",
              "      <td>France</td>\n",
              "      <td>37.000000</td>\n",
              "      <td>67000.000000</td>\n",
              "      <td>Yes</td>\n",
              "    </tr>\n",
              "  </tbody>\n",
              "</table>\n",
              "</div>\n",
              "      <button class=\"colab-df-convert\" onclick=\"convertToInteractive('df-3d045c8e-b7da-4c05-9792-7627987761c8')\"\n",
              "              title=\"Convert this dataframe to an interactive table.\"\n",
              "              style=\"display:none;\">\n",
              "        \n",
              "  <svg xmlns=\"http://www.w3.org/2000/svg\" height=\"24px\"viewBox=\"0 0 24 24\"\n",
              "       width=\"24px\">\n",
              "    <path d=\"M0 0h24v24H0V0z\" fill=\"none\"/>\n",
              "    <path d=\"M18.56 5.44l.94 2.06.94-2.06 2.06-.94-2.06-.94-.94-2.06-.94 2.06-2.06.94zm-11 1L8.5 8.5l.94-2.06 2.06-.94-2.06-.94L8.5 2.5l-.94 2.06-2.06.94zm10 10l.94 2.06.94-2.06 2.06-.94-2.06-.94-.94-2.06-.94 2.06-2.06.94z\"/><path d=\"M17.41 7.96l-1.37-1.37c-.4-.4-.92-.59-1.43-.59-.52 0-1.04.2-1.43.59L10.3 9.45l-7.72 7.72c-.78.78-.78 2.05 0 2.83L4 21.41c.39.39.9.59 1.41.59.51 0 1.02-.2 1.41-.59l7.78-7.78 2.81-2.81c.8-.78.8-2.07 0-2.86zM5.41 20L4 18.59l7.72-7.72 1.47 1.35L5.41 20z\"/>\n",
              "  </svg>\n",
              "      </button>\n",
              "      \n",
              "  <style>\n",
              "    .colab-df-container {\n",
              "      display:flex;\n",
              "      flex-wrap:wrap;\n",
              "      gap: 12px;\n",
              "    }\n",
              "\n",
              "    .colab-df-convert {\n",
              "      background-color: #E8F0FE;\n",
              "      border: none;\n",
              "      border-radius: 50%;\n",
              "      cursor: pointer;\n",
              "      display: none;\n",
              "      fill: #1967D2;\n",
              "      height: 32px;\n",
              "      padding: 0 0 0 0;\n",
              "      width: 32px;\n",
              "    }\n",
              "\n",
              "    .colab-df-convert:hover {\n",
              "      background-color: #E2EBFA;\n",
              "      box-shadow: 0px 1px 2px rgba(60, 64, 67, 0.3), 0px 1px 3px 1px rgba(60, 64, 67, 0.15);\n",
              "      fill: #174EA6;\n",
              "    }\n",
              "\n",
              "    [theme=dark] .colab-df-convert {\n",
              "      background-color: #3B4455;\n",
              "      fill: #D2E3FC;\n",
              "    }\n",
              "\n",
              "    [theme=dark] .colab-df-convert:hover {\n",
              "      background-color: #434B5C;\n",
              "      box-shadow: 0px 1px 3px 1px rgba(0, 0, 0, 0.15);\n",
              "      filter: drop-shadow(0px 1px 2px rgba(0, 0, 0, 0.3));\n",
              "      fill: #FFFFFF;\n",
              "    }\n",
              "  </style>\n",
              "\n",
              "      <script>\n",
              "        const buttonEl =\n",
              "          document.querySelector('#df-3d045c8e-b7da-4c05-9792-7627987761c8 button.colab-df-convert');\n",
              "        buttonEl.style.display =\n",
              "          google.colab.kernel.accessAllowed ? 'block' : 'none';\n",
              "\n",
              "        async function convertToInteractive(key) {\n",
              "          const element = document.querySelector('#df-3d045c8e-b7da-4c05-9792-7627987761c8');\n",
              "          const dataTable =\n",
              "            await google.colab.kernel.invokeFunction('convertToInteractive',\n",
              "                                                     [key], {});\n",
              "          if (!dataTable) return;\n",
              "\n",
              "          const docLinkHtml = 'Like what you see? Visit the ' +\n",
              "            '<a target=\"_blank\" href=https://colab.research.google.com/notebooks/data_table.ipynb>data table notebook</a>'\n",
              "            + ' to learn more about interactive tables.';\n",
              "          element.innerHTML = '';\n",
              "          dataTable['output_type'] = 'display_data';\n",
              "          await google.colab.output.renderOutput(dataTable, element);\n",
              "          const docLink = document.createElement('div');\n",
              "          docLink.innerHTML = docLinkHtml;\n",
              "          element.appendChild(docLink);\n",
              "        }\n",
              "      </script>\n",
              "    </div>\n",
              "  </div>\n",
              "  "
            ]
          },
          "metadata": {},
          "execution_count": 31
        }
      ]
    },
    {
      "cell_type": "markdown",
      "source": [
        "# **Task 2**. Simple Linear Regression in Scikit-Learn\n",
        "---\n",
        "# **Usage:**\n",
        "> **Step 1**: build a model\n",
        "![image.png](data:image/png;base64,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)\n",
        "\n",
        "> **Step 2**: test the model\n",
        "\n",
        "*   With test set:\n",
        "`y_pred = regressor.predict(X_test)`\n",
        "\n",
        "*   With a single value (\"predict\" method always expects a 2D array as the format of its inputs)\n",
        "`regressor.predict([[12]])`\n",
        "\n",
        "> **Step 3**: \n",
        "*   get w0, w1 , w2, …,\n",
        "-- W0: `regressor.intercept_`\n",
        "-- w1, w2, …: `regressor.coef_`\n",
        "*   R^2 score: sum of squared r(i)\n",
        "`r(i) = y(i) - f(x(i))`: residual of ith instance\n",
        "\n",
        "\n",
        "> **Metrics**:\n",
        "*   metrics.explained_variance_score(y_test, y_pred)\n",
        "*   metrics.mean_absolute_error(y_ test, y_pred) \n",
        "*   metrics.mean_squared_error(y_ test, y_pred[, ...])\n",
        "*   metrics.mean_squared_log_error(y_ test, y_pred)\n",
        "*   metrics.median_absolute_error(y_ test, y_pred)\n",
        "*   metrics.r2_score(y_ test, y_pred[, ...])\n"
      ],
      "metadata": {
        "id": "4_r5ZV4_zL20"
      }
    },
    {
      "cell_type": "code",
      "source": [
        "from sklearn.linear_model import LinearRegression as lr\n",
        "import matplotlib.pyplot as plt\n",
        "from sklearn.model_selection import train_test_split as ms\n",
        "from sklearn.metrics import mean_squared_error as mse, r2_score as r2\n",
        "regressor=lr()\n"
      ],
      "metadata": {
        "id": "SqcOP9h8ekvk"
      },
      "execution_count": 20,
      "outputs": []
    },
    {
      "cell_type": "markdown",
      "source": [
        "# Tasks\n",
        "The main aim of these tasks is to get familiar with Linear Regression problems. Apply LinearRegression to the following datasets. Note the error obtained and coefficients\n",
        "*   **dataset1.csv** - a synthetic dataset including 5 points (1-dimensional data) with one target\n",
        "*   **dataset2.csv** - a synthetic dataset including 1000 points (3-dimensional data) with one target variable. The variables are named x1, x2, x3, y. y is the variable to be regressed. Split the dataset into training set and test set (70% for training set and 30% for test set). \n"
      ],
      "metadata": {
        "id": "oJwsJwj03iD_"
      }
    },
    {
      "cell_type": "markdown",
      "source": [
        "# Task 2.1. dataset1.csv\n"
      ],
      "metadata": {
        "id": "XXmlzCILTkdG"
      }
    },
    {
      "cell_type": "code",
      "source": [
        "#code\n",
        "import pandas as pd\n",
        "import numpy as np\n",
        "from sklearn.linear_model import LinearRegression\n",
        "from sklearn.model_selection import train_test_split\n",
        "\n",
        "# Load dataset1\n",
        "dataset1 = pd.read_csv(\"dataset1.csv\")\n",
        "\n",
        "# Perform Linear Regression on dataset1\n",
        "X1 = dataset1.drop(\"target\", axis=1)\n",
        "y1 = dataset1[\"target\"]\n",
        "reg1 = LinearRegression().fit(X1, y1)\n",
        "\n",
        "# Print the coefficients and intercept\n",
        "print(\"Coefficients:\", reg1.coef_)\n",
        "print(\"Intercept:\", reg1.intercept_)\n",
        "\n",
        "# Make predictions on the training data\n",
        "y1_pred = reg1.predict(X1)\n",
        "\n",
        "# Calculate the mean squared error\n",
        "mse1 = np.mean((y1 - y1_pred)**2)\n",
        "print(\"Mean Squared Error:\", mse1)\n"
      ],
      "metadata": {
        "id": "3KA4BgbB3tbs"
      },
      "execution_count": null,
      "outputs": []
    },
    {
      "cell_type": "markdown",
      "source": [
        "# Task 2.2. dataset2.csv\n"
      ],
      "metadata": {
        "id": "swMtgNZUUQlv"
      }
    },
    {
      "cell_type": "code",
      "source": [
        "#code\n",
        "dataset2= pd.read_csv('dataset2.csv')\n",
        "x_train, x_test, y_train, y_test = ms(dataset2[['x1', 'x2', 'x3']], dataset2['y'], test_size = 0.3, random_state = 1)\n",
        "regressor.fit(x_train,y_train)\n",
        "y_predit = regressor.predict(x_test)\n",
        "print(y_predit)\n",
        "w0=regressor.intercept_\n",
        "w1x1=regressor.coef_[0] * dataset2['x1']\n",
        "w2x2=regressor.coef_[1] * dataset2['x2']\n",
        "w3x3=regressor.coef_[2] * dataset2['x3']\n",
        "\n",
        "y=w0+w1x1+w2x2+w3x3\n",
        "fig = plt.figure()\n",
        "shape = fig.add_subplot(projection='3d')\n",
        "shape.scatter(dataset2['x1'], dataset2['x2'], dataset2['x3'], c=dataset2['y'])\n",
        "shape.plot(dataset2['x1'],dataset2['x2'], y, color='black')\n",
        "shape.set_xlabel('x1')\n",
        "shape.set_ylabel('x2')\n",
        "shape.set_zlabel('x3')\n",
        "plt.show()"
      ],
      "metadata": {
        "id": "B8HMqi34USt_",
        "colab": {
          "base_uri": "https://localhost:8080/",
          "height": 919
        },
        "outputId": "8451d6e0-5278-4651-ab3d-bb3e94d056b6"
      },
      "execution_count": 19,
      "outputs": [
        {
          "output_type": "stream",
          "name": "stdout",
          "text": [
            "[ -1.09555578   2.8210162   -2.80937088   0.93249028   4.46716831\n",
            "  18.10287426 -17.89014239   9.33475504   4.2172295   23.10458022\n",
            "   7.45103989   8.46790232  18.21853963  -4.1790449    6.84075532\n",
            "   2.95235554   8.85771318  -0.74380608  15.01121205  10.95829732\n",
            " -18.12084033  -4.44901511  -0.8096726   22.74597955 -13.42213109\n",
            "  18.65213357   9.02682145  -4.48153144  10.20839999  14.95625146\n",
            "   6.46187879  12.21761812   0.73402813   8.62311167  -4.17021239\n",
            " -12.78144779  15.66638407  20.62849828  -0.59142472  -5.31117429\n",
            "  10.51840672  -5.39886769   3.65505324   0.34790187 -16.12786455\n",
            "  12.34775266  -1.38894906  -8.73713617   4.38949713   0.48892861\n",
            "   3.38194285  -1.95872119   8.98117513   2.69226911  13.72273929\n",
            "  -0.72766663   9.27256349   0.89347602   9.19869181   8.09576538\n",
            "   7.70930563  20.48890725   6.02816454   0.30307559   3.41876931\n",
            "   8.69541     -1.57929563   9.70137965   8.42162816  -9.76255447\n",
            "   4.42876172  23.19048328  -0.59056618  17.12417478   6.29319268\n",
            "  11.35595117   5.91645534   4.04949412  14.82501594  13.91609947\n",
            "  16.57863245  10.05090673  20.39200723 -13.82624723   3.19037145\n",
            "  15.32179833   8.19621407 -18.12394126  -7.3958439    9.05007992\n",
            "  -6.68543175   2.87701779  -9.16907075  14.96197225  -7.0628637\n",
            "   2.86743447 -11.27385279  11.40577881  14.89100175   2.9120818\n",
            "  17.11914276  12.99156341   4.53960167   7.71087742  24.24697908\n",
            "  -5.81460852   2.53611294   2.97515511   1.18982834  10.09590779\n",
            "  -4.10326899   9.99342968  -5.77076762  -4.14904469  -3.13077179\n",
            "   2.9302074   -1.309975   -12.47117089   9.37095684   9.06351491\n",
            "  -6.76784059   3.44855575  -6.16315923  -6.82170581 -15.64679171\n",
            "  13.51612022   7.67144476  -2.40506216   5.36431657  -4.85346662\n",
            " -13.20117471   4.31524342   4.57064306  10.26768676  12.2194487\n",
            "   7.42819772  -7.28432337  -6.73674249   3.81042711   4.13722109\n",
            "   3.22157274   1.43283724  -1.75847576   5.55149621  16.89116709\n",
            "   5.01574152   3.58559941   5.05492475  20.34328641  -0.78207258\n",
            "  -9.45975566  12.09530998  -6.80541197   0.74385332   4.38891365\n",
            "   2.37301909  24.2520517   13.2966039   13.41470076  19.99043639\n",
            "   4.06808273   8.01558645   3.67054585  10.47850813   6.05060078\n",
            "   9.34436764  -5.431008   -14.49704433  12.03808225   4.90872447\n",
            "  16.54680563  11.50475984  13.38180328  -8.22956365  19.32188222\n",
            "   1.5400456    3.57865607   9.16850844  -8.51519714  16.79943566]\n"
          ]
        },
        {
          "output_type": "display_data",
          "data": {
            "text/plain": [
              "<Figure size 432x288 with 1 Axes>"
            ],
            "image/png": "[encoded data removed]"
          },
          "metadata": {
            "needs_background": "light"
          }
        }
      ]
    },
    {
      "cell_type": "markdown",
      "source": [
        "# Task 2.3. Apply LinearRegression to the following dataset:\n",
        "*   Red wine quality: https://archive.ics.uci.edu/ml/machine-learning-databases/wine-quality/winequality-red.csv . The dataset includes info about the chemical properties of different types of wine and how they relate to overall quality. \n",
        "\n"
      ],
      "metadata": {
        "id": "yt-_Q4Ak4sFL"
      }
    },
    {
      "cell_type": "code",
      "source": [
        "#code\n",
        "data = pd.read_csv('Task3_winequality-red.csv', sep=';')\n",
        "x = data.drop(['quality'], axis=1)\n",
        "y = data['quality']\n",
        "# print(x)\n",
        "x_train, x_test, y_train, y_test = ms(x, y, test_size=0.3, random_state=0)\n",
        "regressor.fit(x_train, y_train)\n",
        "y_pred = regressor.predict(x_test)\n",
        "print(regressor.intercept_)\n",
        "print( regressor.coef_)\n",
        "print(y_pred)\n",
        "print( mse(y_test, y_pred))\n",
        "print(r2(y_test, y_pred))"
      ],
      "metadata": {
        "id": "zW6-olSN5NFV",
        "colab": {
          "base_uri": "https://localhost:8080/"
        },
        "outputId": "e70fe495-ae34-4174-b334-20476207ba93"
      },
      "execution_count": 26,
      "outputs": [
        {
          "output_type": "stream",
          "name": "stdout",
          "text": [
            "21.011050088278814\n",
            "[ 2.02362546e-02 -1.21385635e+00 -9.84560496e-02  2.21024824e-02\n",
            " -1.89761853e+00  1.99433159e-03 -3.00386885e-03 -1.67249074e+01\n",
            " -3.97705407e-01  8.54179475e-01  2.67506351e-01]\n",
            "[5.77698343 5.04186238 6.58812977 5.38449676 5.94235649 5.05262894\n",
            " 5.41458193 6.01438796 4.84612312 4.96358462 5.34037719 5.45310236\n",
            " 5.74762487 5.04609467 5.5298785  6.37077951 6.81048257 5.80786582\n",
            " 5.94225643 5.10463618 6.30480803 5.20797767 5.63891192 6.14447946\n",
            " 5.5130062  5.01701749 5.19879799 6.49572365 5.34885245 6.2195562\n",
            " 6.09065844 5.8570942  5.54513074 5.28600391 5.70464326 6.2153627\n",
            " 5.16300514 5.46547134 6.36024605 5.78842262 5.45247612 6.05034673\n",
            " 6.65558681 6.58819242 6.01087011 4.79026321 5.52926762 6.01442528\n",
            " 5.50581887 6.1094846  5.3645023  5.3569158  5.78100776 6.36560789\n",
            " 5.74243611 5.23301561 5.08378558 5.33390739 6.50763077 5.46055241\n",
            " 5.15491058 5.77792925 6.05806639 6.29836916 5.07172948 6.1147426\n",
            " 5.36980622 6.02148855 6.14452363 6.04562478 5.31885448 5.49214109\n",
            " 5.06785305 5.58701634 5.63591451 6.20777786 5.4056327  5.33936313\n",
            " 5.71978747 6.31306633 5.73600069 5.28587334 5.92859781 6.12134569\n",
            " 5.50454085 5.37865176 6.2095893  5.09862828 5.34076007 4.97124905\n",
            " 5.17146228 5.32482542 5.78734056 5.41859979 6.23559791 5.31885448\n",
            " 6.31992199 5.39940663 5.46574686 5.95904361 6.8622465  6.04524424\n",
            " 5.75749805 6.34944577 5.62879544 4.96133542 5.62879544 5.40553591\n",
            " 5.99668537 5.27402627 5.84427939 5.14646612 6.27399656 5.02669997\n",
            " 5.59010207 5.78483037 5.67604795 6.42097264 5.77301827 5.63891192\n",
            " 5.13979635 5.93789375 5.43420428 5.12137145 6.17369143 6.31544725\n",
            " 5.33292269 5.4712275  6.04906076 6.45038864 5.44225612 5.22773098\n",
            " 6.02883824 5.83189158 6.31268333 5.30746747 5.91822949 5.29550091\n",
            " 6.12912665 5.3569481  5.96728384 5.10964601 5.52926762 5.26046308\n",
            " 5.64390642 5.75269072 6.27399656 6.41317452 6.24901797 5.32910129\n",
            " 5.93137324 5.9728948  5.40553591 5.52505223 5.5214452  5.38627329\n",
            " 5.12734573 5.38521065 6.19307621 6.05371442 5.92247739 5.59777402\n",
            " 6.28914529 5.12606217 5.93674426 5.02369334 5.96347775 6.47385649\n",
            " 5.4972908  5.9690481  5.97423284 5.52296716 5.01980861 6.65115597\n",
            " 5.79669665 6.31172281 6.22684646 6.80970933 6.04554987 4.85007541\n",
            " 5.10394577 6.94221861 5.48035922 6.14629162 6.78339382 5.02945205\n",
            " 5.68155071 5.75749805 4.97960213 6.14963519 6.05044972 5.91777439\n",
            " 5.22885173 5.50553759 5.18937653 5.17214506 5.34037719 5.1347952\n",
            " 5.26845166 5.09348735 5.28202871 6.14684684 5.17854655 5.3086585\n",
            " 5.40573505 4.94781012 5.10270456 6.30903844 6.05262112 5.4316605\n",
            " 5.94703154 6.14805243 5.34348707 6.37165017 5.02079444 5.44367527\n",
            " 5.94949204 6.08069073 5.55242089 5.00648535 5.0375224  5.95332874\n",
            " 6.38281576 5.77690691 5.43420363 6.01000842 6.37974452 5.78812528\n",
            " 4.87517747 5.48439988 5.02491977 5.88491193 5.05328394 5.83968438\n",
            " 6.30631756 5.60921879 6.126963   6.57281038 6.52985461 6.14233611\n",
            " 5.34492541 4.91867582 5.03879411 5.11954044 5.96955316 4.84112558\n",
            " 5.61226645 5.23023352 4.87130186 6.32103956 4.89068131 5.27717187\n",
            " 4.9141673  5.35909723 5.53195644 5.53746326 5.12985807 5.06815136\n",
            " 5.12746778 5.63301816 5.33640963 6.88499087 5.35788608 5.69284132\n",
            " 5.24717863 4.70918815 5.31626606 4.9602451  5.60326    6.47979995\n",
            " 5.76946537 5.76114391 5.69954505 6.03990978 5.9677159  5.81189221\n",
            " 6.39580929 5.2020665  6.59910395 6.16574162 5.39301648 6.89365807\n",
            " 5.76114391 6.32757192 5.84861412 5.16251288 5.60752067 5.36865842\n",
            " 6.2588103  5.91539369 5.67791597 5.37472444 6.15490279 5.37097618\n",
            " 5.1919113  5.69541813 5.57716969 5.2101932  5.15621988 5.29114532\n",
            " 5.67405543 5.03710619 5.43082795 5.74935937 6.1375354  5.77937684\n",
            " 5.3297386  5.04497711 5.62471695 5.3255354  5.91960533 5.92036275\n",
            " 5.35504375 5.39940663 5.07915752 6.58722984 6.03541772 6.26618724\n",
            " 5.17209473 6.4083629  5.3255354  5.82789424 6.16651316 5.93044436\n",
            " 5.43022496 5.08907954 6.62731247 5.56431    5.33253951 5.6562065\n",
            " 6.60746073 5.22719057 5.47517051 6.14963519 4.96342983 6.02258284\n",
            " 5.92398251 5.45700283 5.38509537 5.31339108 5.01059419 5.38973146\n",
            " 5.36980622 6.354219   5.69541813 5.57138479 5.44260891 5.14127377\n",
            " 5.43052435 6.51426115 5.72756544 6.10969017 5.59386233 5.94131102\n",
            " 6.62076223 4.82973383 6.05044972 6.15177186 5.68897048 6.17003446\n",
            " 5.06469775 6.32103956 5.42728054 6.09928609 5.69850053 5.27563153\n",
            " 5.46547134 6.42999676 5.00374141 5.44239619 5.64318952 5.55029103\n",
            " 5.44851139 6.07946892 5.34142322 5.28966776 5.9728948  6.20099871\n",
            " 5.60921879 5.78376469 6.23397708 5.8500665  5.08056677 5.44858252\n",
            " 5.58558388 5.56537434 6.14188586 5.58874363 6.01529398 5.65068924\n",
            " 6.52257744 5.50748462 5.14627478 6.43459565 5.37595033 5.8899597\n",
            " 5.53116944 5.91960533 5.82048958 5.41610961 5.3131938  5.41610961\n",
            " 5.31831622 5.25342855 5.83498555 5.33390739 5.91056681 6.05764335\n",
            " 5.30710432 5.78870613 5.44367527 5.10872424 4.97588352 5.90258795\n",
            " 5.38568962 5.2915022  6.07000142 5.20245013 5.34511172 6.04979801\n",
            " 6.10842216 5.76595042 6.37837399 5.87711457 5.33126861 5.53264892\n",
            " 5.79253852 6.17700409 5.35080171 5.23023352 5.55482375 6.01529398\n",
            " 5.32482542 6.21888837 5.7814564  6.65520676 5.7286605  6.37551348\n",
            " 5.53208537 5.35903468 5.72934335 5.28439481 6.14233611 5.09229843\n",
            " 5.87157633 5.59792825 5.45700283 6.94370531 5.88958199 5.52407857\n",
            " 6.04131936 5.10556018 5.97070711 6.55132687 6.24616191 5.21579877\n",
            " 5.65367141 5.29418826 6.15490279 5.60827621 5.14973283 6.72097956\n",
            " 5.3569481  4.99367277 5.03204389 5.05262894 6.06633655 5.11867642\n",
            " 5.50404881 5.18253686 5.61096683 5.54375371 5.24856174 5.44010393\n",
            " 5.91539369 5.50311651 4.95233104 5.18407333 5.56537434 5.29418826]\n",
            "0.4007803663750053\n",
            "0.32071124343219437\n"
          ]
        }
      ]
    },
    {
      "cell_type": "markdown",
      "source": [
        "# Task 2.4. Apply LinearRegression to the following dataset:\n",
        "*   Energy efficiency: https://archive.ics.uci.edu/ml/datasets/Energy+efficiency.\n",
        "\n",
        "\n"
      ],
      "metadata": {
        "id": "jGxa2efd5N97"
      }
    },
    {
      "cell_type": "code",
      "source": [
        "#code\n",
        "data = pd.read_excel('Task4_ENB2012_data.xlsx')\n",
        "data = data.rename(columns={'X1': 'Relative_Compactness',\n",
        "                        'X2': 'Surface_Area',\n",
        "                        'X3': 'Wall_Area',\n",
        "                        'X4': 'Roof_Area',\n",
        "                        'X5': 'Overall_Height',\n",
        "                        'X6': 'Orientation',\n",
        "                        'X7': 'Glazing_Area',\n",
        "                        'X8': 'Glazing_Area_Distribution',\n",
        "                        'Y1': 'Heating_Load',\n",
        "                        'Y2': 'Cooling_Load'})\n",
        "x = data.drop(['Heating_Load', 'Cooling_Load'], axis=1)\n",
        "y = data['Heating_Load']\n",
        "x_train, x_test, y_train, y_test = ms(x, y, test_size=0.3, random_state=0)\n",
        "regressor.fit(x_train, y_train)\n",
        "y_pred = regressor.predict(x_test)\n",
        "print(regressor.intercept_)\n",
        "print( regressor.coef_)\n",
        "print(y_pred)\n",
        "print( mse(y_test, y_pred))\n",
        "print(r2(y_test, y_pred))"
      ],
      "metadata": {
        "id": "bcO-jgg55XBr",
        "colab": {
          "base_uri": "https://localhost:8080/"
        },
        "outputId": "3542a3d1-6f99-4279-8b9e-65ce0d88d317"
      },
      "execution_count": 27,
      "outputs": [
        {
          "output_type": "stream",
          "name": "stdout",
          "text": [
            "72.70663804779464\n",
            "[-5.61908712e+01 -5.59383623e-02  4.02060419e-02 -4.80722021e-02\n",
            "  3.99273805e+00 -5.80790626e-02  1.94140526e+01  1.73979467e-01]\n",
            "[17.42908608  8.03386763 29.47146502 25.82373748 31.09444255 27.47850162\n",
            " 28.29823507 34.05347557 29.27891697 28.57721873  6.98670867 35.06362226\n",
            " 11.89475018 35.29568079 35.81761919 26.59886761  9.45005232 27.30452215\n",
            " 16.05155068 12.30433887 13.21669391 31.26842202  9.62428951 32.44165197\n",
            "  5.68642438 15.21644675 13.1394428  14.49617993  9.10209339 32.96359037\n",
            " 13.42958039 14.45889913 35.52773932 14.28491967 28.5302936  37.06378073\n",
            " 14.148221   37.41173966 18.44172017  9.93798129 11.60487031 32.32549385\n",
            " 15.66468474 31.14110996 24.07770261 25.61818572  9.79801126 13.10053578\n",
            " 27.88453961 32.36500432 31.21034296 12.84956293 34.15141512 17.83512408\n",
            " 37.23776019  7.80180911 23.15484206 30.79315103 32.61537372 16.2447022\n",
            " 17.37100702 12.36241793 31.38432243  8.55580603 12.1303594  11.23611311\n",
            " 32.26741478 10.71062402 26.77284708 32.44139425 31.50048055  9.68211085\n",
            " 28.69311914 18.6737787  12.40106722 30.9671305  31.67446002 32.78935318\n",
            " 31.84843948 15.10054635 33.30271739 27.71056015 11.25691138 16.28360921\n",
            " 34.40117678 31.02520956 25.90806559 27.12402177 13.31367999 18.61569964\n",
            " 13.85808341 26.71476801 10.83007512 25.21214772 39.62792968 18.61595736\n",
            " 34.11129691 16.01290139  9.02536853 36.9476226  29.58736543 28.40323927\n",
            " 23.96154449 33.80371391  8.49772697 29.45289643 35.87569826 14.57479954\n",
            " 12.18843846 23.096763   18.57349965 34.20949418 32.07512445 12.22708776\n",
            " 12.36216021 12.57504669 11.83667112 29.93532436 26.83092614 40.32384755\n",
            " 33.94081392 10.94597552 12.07228034 33.36079645 12.47831834 40.03370995\n",
            " 14.20604234 28.47221454 11.41009258 32.71322097 33.62947672 25.27022678\n",
            " 29.76134489 11.17803405 37.23750247  9.14152665 34.22719732 25.32830584\n",
            " 34.44155271 15.39042622 14.79123671 17.87758178 28.00069774  9.27633058\n",
            " 29.35556462 18.7896791  27.47875934 36.59966367 13.27477297 16.22578787\n",
            " 28.82017347 11.72077071 16.22553015 15.87782894 13.80000434 33.86153525\n",
            " 28.00044002 28.3451602  14.74903672 25.79216518 32.15151438 12.01420128\n",
            " 25.44420625 31.03636349 14.05286114 17.87732406 14.80685807 32.36526204\n",
            " 16.39976734 32.01730311 39.74383008 12.59421874 27.18210083 35.70146107\n",
            " 34.32539459 25.96614465 29.27917469 30.85123009 16.36086032 26.02422371\n",
            "  8.2078471  35.5274816  29.68495496 10.6182778  15.68030609 27.93912221\n",
            "  9.16017245 12.24625981 30.90930916 15.76167081 12.96572105 12.53613968\n",
            " 18.45734153  9.27607286 17.13920621 14.2268406  17.31292796 25.67626478\n",
            "  9.97224845 31.63025012 15.95482233 12.71011914  7.72508424 15.42933324\n",
            " 28.57696101 33.18681699  9.21825152 17.02304808 10.88815418 13.39067338\n",
            " 28.17118074 13.742183   28.93095803 27.59465974 10.71391699 12.79174158\n",
            " 25.84998652 31.25726809 30.2747091  11.58407205 32.61563144 12.18818074\n",
            " 16.3606026  11.66269165 29.70326583 30.91280563 34.09359378 13.13970052\n",
            " 15.58769135 17.71896595  7.7831633 ]\n",
            "9.265529158558705\n",
            "0.9118632854449374\n"
          ]
        }
      ]
    },
    {
      "cell_type": "markdown",
      "source": [
        "# Finally,\n",
        "Save a copy in your Github. Remember renaming the notebook."
      ],
      "metadata": {
        "id": "Ok7RGkea_b7n"
      }
    }
  ]
}