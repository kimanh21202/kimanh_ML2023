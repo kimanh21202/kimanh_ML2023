{
  "nbformat": 4,
  "nbformat_minor": 0,
  "metadata": {
    "colab": {
      "provenance": [],
      "include_colab_link": true
    },
    "kernelspec": {
      "name": "python3",
      "display_name": "Python 3"
    },
    "language_info": {
      "name": "python"
    }
  },
  "cells": [
    {
      "cell_type": "markdown",
      "metadata": {
        "id": "view-in-github",
        "colab_type": "text"
      },
      "source": [
        "<a href=\"https://colab.research.google.com/github/kimanh21202/kimanh_ML2023/blob/main/Lab_5_20130197_NguyenThiKimAnh.ipynb\" target=\"_parent\"><img src=\"https://colab.research.google.com/assets/colab-badge.svg\" alt=\"Open In Colab\"/></a>"
      ]
    },
    {
      "cell_type": "markdown",
      "source": [
        "# This lab is to deal with **SVM** to classification tasks and compare its performance with other competitive algorithms. In general, **SVM** is one of the most popular and widely used supervised machine learning algorithms.\n",
        "\n",
        "*   **Deadline: 23:59, 17/03/2023**\n",
        "\n"
      ],
      "metadata": {
        "id": "LMzehe0sy5wr"
      }
    },
    {
      "cell_type": "markdown",
      "source": [
        "# Import libraries"
      ],
      "metadata": {
        "id": "H4nJmxp9zGX4"
      }
    },
    {
      "cell_type": "code",
      "execution_count": 14,
      "metadata": {
        "id": "DoVWQ8AEyc-C",
        "colab": {
          "base_uri": "https://localhost:8080/"
        },
        "outputId": "80cc7790-6599-462d-ab31-682c2fd358a7"
      },
      "outputs": [
        {
          "output_type": "stream",
          "name": "stdout",
          "text": [
            "Drive already mounted at /content/gdrive; to attempt to forcibly remount, call drive.mount(\"/content/gdrive\", force_remount=True).\n",
            "/content/gdrive/MyDrive/Colab\n"
          ]
        }
      ],
      "source": [
        "# code\n",
        "from google.colab import drive\n",
        "drive.mount('/content/gdrive')\n",
        "%cd '/content/gdrive/MyDrive/Colab'\n",
        "\n",
        "import pandas as pd\n",
        "import numpy as np\n",
        "import matplotlib.pyplot as plt\n",
        "from sklearn.model_selection import train_test_split as tts\n",
        "from prettytable import PrettyTable\n",
        "\n",
        "from sklearn import svm\n",
        "from sklearn.impute import SimpleImputer as sk\n",
        "from sklearn.linear_model import LinearRegression\n",
        "from sklearn import datasets\n",
        "from sklearn.linear_model import LogisticRegression\n",
        "from sklearn.metrics import confusion_matrix \n",
        "from sklearn.metrics import accuracy_score \n",
        "from sklearn.metrics import ConfusionMatrixDisplay\n",
        "from sklearn.tree import DecisionTreeRegressor\n",
        "from sklearn.metrics import recall_score\n",
        "from sklearn.metrics import f1_score\n",
        "from sklearn.metrics import precision_score\n",
        "from sklearn.neighbors import KNeighborsClassifier\n"
      ]
    },
    {
      "cell_type": "markdown",
      "source": [
        "#Task 1. \n",
        "For breast cancer dataset (https://tinyurl.com/3vme8hr3) which could be loaded from datasets in sklearn as follows:\n",
        "\n",
        "```\n",
        "#Import scikit-learn dataset library\n",
        "from sklearn import datasets\n",
        "\n",
        "#Load dataset\n",
        "cancer = datasets.load_breast_cancer()\n",
        "```\n",
        "\n",
        "*   1.1.\tApply SVM algorithm to above dataset using linear kernel.\n",
        "*   1.2.\tCompare the obtained results with other competitive algorithms (Logistic Regression, Decision Tree, kNN) based on metrics: accuracy, precision, recall, f1 measures.\n",
        "\n"
      ],
      "metadata": {
        "id": "kNv07ARGzOUm"
      }
    },
    {
      "cell_type": "code",
      "source": [
        "# code\n",
        "\n",
        "cancer = datasets.load_breast_cancer()\n",
        "x = cancer['data']\n",
        "y = cancer['target']\n",
        "X_train, X_test, y_train, y_test = tts(cancer['data'], cancer['target'], test_size = 0.2, random_state = 1)\n",
        "\n",
        "clf = svm.SVC(kernel='linear') \n",
        "clf.fit(X_train, y_train)\n",
        "y_pred = clf.predict(X_test)\n",
        "print (\"Accuracy : \", accuracy_score(y_test, y_pred))\n",
        "print(\"Precision : \",precision_score(y_test, y_pred , average=None))\n",
        "print (\"f1 : \",f1_score(y_test, y_pred , average=None))\n",
        "print (\"Recall : \",recall_score(y_test, y_pred , average=None))\n"
      ],
      "metadata": {
        "id": "sOsg77IBzEyo",
        "colab": {
          "base_uri": "https://localhost:8080/"
        },
        "outputId": "837d8e41-9556-48a7-e4b5-9a96c5c61cb4"
      },
      "execution_count": 16,
      "outputs": [
        {
          "output_type": "stream",
          "name": "stdout",
          "text": [
            "Accuracy :  0.956140350877193\n",
            "Precision :  [1.         0.93506494]\n",
            "f1 :  [0.93670886 0.96644295]\n",
            "Recall :  [0.88095238 1.        ]\n"
          ]
        }
      ]
    },
    {
      "cell_type": "markdown",
      "source": [
        "#Task 2. \n",
        "\n",
        "*   1.1.\tPerform SVM algorithm to **Iris dataset** using **linear kernel**.\n",
        "*   1.2.\tCompare the obtained results in 1.1 with SVM using other kernels (**Polynomial Kernel, Gaussian Kernel, Sigmoid Kernel, Radial Basis Function Kernel**). Some metrics could be used: accuracy, precision, recall, f1 measures\n",
        "\n",
        "\n",
        "\n"
      ],
      "metadata": {
        "id": "S43IoUT-0OQq"
      }
    },
    {
      "cell_type": "code",
      "source": [
        "# code\n",
        "iris= datasets.load_iris()\n",
        "tb = PrettyTable()\n",
        "tb.field_names = [\"Kernel\",\"Accuracy\", \"Precision\", \"F1\", \"Recall\"]\n",
        "X_train, X_test, y_train, y_test = tts(iris['data'], iris['target'], test_size = 0.3, random_state = 1)"
      ],
      "metadata": {
        "id": "_xhPpF5b033h"
      },
      "execution_count": 41,
      "outputs": []
    },
    {
      "cell_type": "code",
      "source": [
        "clf = svm.SVC(kernel='linear') \n",
        "clf.fit(X_train, y_train)\n",
        "y_pred = clf.predict(X_test)\n",
        "tb.add_row([\"Linear\", accuracy_score(y_test, y_pred)\n",
        ",precision_score(y_test, y_pred , average='macro',zero_division=0)\n",
        ",f1_score(y_test, y_pred , average='macro',zero_division=0) \n",
        ",recall_score(y_test, y_pred , average='macro',zero_division=0) ])"
      ],
      "metadata": {
        "id": "UQboJNgOKuAs"
      },
      "execution_count": 42,
      "outputs": []
    },
    {
      "cell_type": "code",
      "source": [
        "clf = svm.SVC(kernel='poly') \n",
        "clf.fit(X_train, y_train)\n",
        "y_pred = clf.predict(X_test)\n",
        "tb.add_row([\"Poly\", accuracy_score(y_test, y_pred)\n",
        ",precision_score(y_test, y_pred , average='macro',zero_division=0)\n",
        ",f1_score(y_test, y_pred , average='macro',zero_division=0)\n",
        ",recall_score(y_test, y_pred , average='macro',zero_division=0) ])\n"
      ],
      "metadata": {
        "id": "jyXoXmxrKxyc"
      },
      "execution_count": 43,
      "outputs": []
    },
    {
      "cell_type": "code",
      "source": [
        "clf = svm.SVC(kernel='sigmoid') \n",
        "clf.fit(X_train, y_train)\n",
        "y_pred = clf.predict(X_test)\n",
        "tb.add_row([\"Sigmoid\", accuracy_score(y_test, y_pred)\n",
        ",precision_score(y_test, y_pred , average='macro',zero_division=0)\n",
        ", f1_score(y_test, y_pred , average='macro',zero_division=0) \n",
        ",recall_score(y_test, y_pred , average='macro',zero_division=0) ])\n"
      ],
      "metadata": {
        "id": "vSdqNKtVK2wF"
      },
      "execution_count": 44,
      "outputs": []
    },
    {
      "cell_type": "code",
      "source": [
        "clf = svm.SVC(kernel='rbf') \n",
        "clf.fit(X_train, y_train)\n",
        "y_pred = clf.predict(X_test)\n",
        "tb.add_row([\"Gauss\", accuracy_score(y_test, y_pred)\n",
        ",precision_score(y_test, y_pred , average='macro',zero_division=0)\n",
        ", f1_score(y_test, y_pred , average='macro',zero_division=0) \n",
        ",recall_score(y_test, y_pred , average='macro',zero_division=0) ])\n",
        "tb"
      ],
      "metadata": {
        "colab": {
          "base_uri": "https://localhost:8080/",
          "height": 126
        },
        "id": "mafhOdd0LPD4",
        "outputId": "99de095b-28ef-4693-c84e-1356c34a9870"
      },
      "execution_count": 45,
      "outputs": [
        {
          "output_type": "execute_result",
          "data": {
            "text/plain": [
              "+---------+---------------------+---------------------+---------------------+--------------------+\n",
              "|  Kernel |       Accuracy      |      Precision      |          F1         |       Recall       |\n",
              "+---------+---------------------+---------------------+---------------------+--------------------+\n",
              "|  Linear |         1.0         |         1.0         |         1.0         |        1.0         |\n",
              "|   Poly  |  0.9777777777777777 |  0.9761904761904763 |  0.9781305114638448 | 0.9814814814814815 |\n",
              "| Sigmoid | 0.28888888888888886 | 0.09629629629629628 | 0.14942528735632185 | 0.3333333333333333 |\n",
              "|  Gauss  |  0.9777777777777777 |  0.9761904761904763 |  0.9781305114638448 | 0.9814814814814815 |\n",
              "+---------+---------------------+---------------------+---------------------+--------------------+"
            ],
            "text/html": [
              "<table>\n",
              "    <thead>\n",
              "        <tr>\n",
              "            <th>Kernel</th>\n",
              "            <th>Accuracy</th>\n",
              "            <th>Precision</th>\n",
              "            <th>F1</th>\n",
              "            <th>Recall</th>\n",
              "        </tr>\n",
              "    </thead>\n",
              "    <tbody>\n",
              "        <tr>\n",
              "            <td>Linear</td>\n",
              "            <td>1.0</td>\n",
              "            <td>1.0</td>\n",
              "            <td>1.0</td>\n",
              "            <td>1.0</td>\n",
              "        </tr>\n",
              "        <tr>\n",
              "            <td>Poly</td>\n",
              "            <td>0.9777777777777777</td>\n",
              "            <td>0.9761904761904763</td>\n",
              "            <td>0.9781305114638448</td>\n",
              "            <td>0.9814814814814815</td>\n",
              "        </tr>\n",
              "        <tr>\n",
              "            <td>Sigmoid</td>\n",
              "            <td>0.28888888888888886</td>\n",
              "            <td>0.09629629629629628</td>\n",
              "            <td>0.14942528735632185</td>\n",
              "            <td>0.3333333333333333</td>\n",
              "        </tr>\n",
              "        <tr>\n",
              "            <td>Gauss</td>\n",
              "            <td>0.9777777777777777</td>\n",
              "            <td>0.9761904761904763</td>\n",
              "            <td>0.9781305114638448</td>\n",
              "            <td>0.9814814814814815</td>\n",
              "        </tr>\n",
              "    </tbody>\n",
              "</table>"
            ]
          },
          "metadata": {},
          "execution_count": 45
        }
      ]
    },
    {
      "cell_type": "markdown",
      "source": [
        "#Task 3. \n",
        "Compare the performance of selected classification algorithms (Decision Tree, kNN, Logistic Regression) and SVM (using different kernels) with mnist dataset based on accuracy, precision, recall, f1 measures.\n"
      ],
      "metadata": {
        "id": "b52OPWPD2afi"
      }
    },
    {
      "cell_type": "code",
      "source": [
        "mnist = datasets.load_digits()\n",
        "tb = PrettyTable()\n",
        "tb.field_names = [\"\",\"Accuracy\", \"Precision\", \"F1\", \"Recall\"]"
      ],
      "metadata": {
        "id": "bzr1rNPl8ZR4"
      },
      "execution_count": null,
      "outputs": []
    },
    {
      "cell_type": "code",
      "source": [
        "x_train, x_test, y_train, y_test = tts(mnist['data'], mnist['target'], test_size=0.2, random_state=1)"
      ],
      "metadata": {
        "id": "8ZiKTUt_RDC6"
      },
      "execution_count": null,
      "outputs": []
    },
    {
      "cell_type": "markdown",
      "source": [
        "#Task 4. \n",
        "Compare the performance of selected classification algorithms (Decision Tree, kNN, Logistic Regression) and SVM (using different kernels) with **credit card dataset** based on accuracy, precision, recall, f1 measures.\n",
        "\n",
        "*   Give some comments on the obtained results\n",
        "*   Identify issues with dataset, and propose the solutions to these issues\n",
        "\n"
      ],
      "metadata": {
        "id": "Z5pp7_h-aP2u"
      }
    },
    {
      "cell_type": "code",
      "source": [
        "# code\n",
        "dataset = pd.read_csv(\"creditcard.csv\")\n"
      ],
      "metadata": {
        "id": "Rw_-8FIf2KxW"
      },
      "execution_count": null,
      "outputs": []
    },
    {
      "cell_type": "markdown",
      "source": [
        "#Finally,\n",
        "Save a copy in your Github. Remember renaming the notebook."
      ],
      "metadata": {
        "id": "Ok7RGkea_b7n"
      }
    }
  ]
}